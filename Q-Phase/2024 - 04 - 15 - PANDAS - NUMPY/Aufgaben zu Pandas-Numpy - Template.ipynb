{
 "cells": [
  {
   "cell_type": "markdown",
   "metadata": {},
   "source": [
    "## Aufgaben zu Pandas"
   ]
  },
  {
   "cell_type": "markdown",
   "metadata": {},
   "source": [
    "### Verwendete Bibliotheken"
   ]
  },
  {
   "cell_type": "code",
   "metadata": {},
   "source": [
    "import pandas as pd\n",
    "import numpy as np"
   ],
   "outputs": [],
   "execution_count": null
  },
  {
   "cell_type": "markdown",
   "metadata": {},
   "source": [
    "### 1. Beispiele zu DataFrame erzeugen"
   ]
  },
  {
   "cell_type": "markdown",
   "metadata": {},
   "source": [
    "Erzeugen Sie nachfolgende Tabelle, indem Sie ein festes Dictionary verwenden!"
   ]
  },
  {
   "cell_type": "code",
   "metadata": {},
   "source": [
    "df = pd.DataFrame({'col one':[100, 200], 'col two':[300, 400]})\n",
    "print(df)"
   ],
   "outputs": [],
   "execution_count": null
  },
  {
   "cell_type": "markdown",
   "metadata": {},
   "source": [
    "Erzeugen Sie einen großen DataFrame mit der Funktion „random.rand()“ von NumPy mit 4 Zeilen und 8 Spalten als feste Parameter"
   ]
  },
  {
   "cell_type": "code",
   "metadata": {},
   "source": [
    "df2 = pd.DataFrame(np.random.rand(4, 8))"
   ],
   "outputs": [],
   "execution_count": null
  },
  {
   "cell_type": "markdown",
   "metadata": {},
   "source": [
    "Benennen Sie die Spalten mit a bis h und verwenden Sie eine Liste als Parameter: \n",
    "list('abcdefgh')"
   ]
  },
  {
   "cell_type": "code",
   "metadata": {},
   "source": [
    "df2.rename(columns={0:'a', 1:'b', 2:'c', 3:'d', 4:'e', 5:'f', 6:'g', 7:'h'}, inplace=True)"
   ],
   "outputs": [],
   "execution_count": null
  },
  {
   "cell_type": "markdown",
   "metadata": {},
   "source": [
    "### 2. Umbenennen von Spalten"
   ]
  },
  {
   "cell_type": "markdown",
   "metadata": {},
   "source": [
    "Verwenden Sie folgende Tabelle von oben:\n",
    "df = pd.DataFrame({'col one':[100, 200], 'col two':[300, 400]})\n",
    "Ändern sie die Namen der Spalten durch direkte Zuweisung in 'col_one', 'col_two' ab!"
   ]
  },
  {
   "cell_type": "code",
   "metadata": {},
   "source": [
    "df.columns = ['col_one', 'col_two']"
   ],
   "outputs": [],
   "execution_count": null
  },
  {
   "cell_type": "markdown",
   "metadata": {},
   "source": [
    "Fügen Sie einen Prefix allen Spalten hinzu z.B. \"X_\"!"
   ]
  },
  {
   "cell_type": "code",
   "metadata": {},
   "source": [
    "df.rename(columns=lambda x: f'X_{x}', inplace=True)"
   ],
   "outputs": [],
   "execution_count": null
  },
  {
   "cell_type": "markdown",
   "metadata": {},
   "source": [
    "Fügen Sie einen suffix allen Spalten hinzu z.B. \"_Y\"!"
   ]
  },
  {
   "cell_type": "code",
   "metadata": {},
   "source": [
    "df.rename(columns=lambda x: f'{x}_Y', inplace=True)\n",
    "print(df)"
   ],
   "outputs": [],
   "execution_count": null
  },
  {
   "cell_type": "markdown",
   "metadata": {},
   "source": [
    "### 3. Zeilenreihenfolge umkehren"
   ]
  },
  {
   "cell_type": "markdown",
   "metadata": {},
   "source": [
    "Laden Sie die Datei drinks.csv aus dem Verzeichnis data und lassen Sie die ersten 10 Datensätze darstellen:"
   ]
  },
  {
   "cell_type": "code",
   "metadata": {
    "scrolled": true
   },
   "source": [
    "dfDrinks = pd.read_csv('data/drinks.csv')"
   ],
   "outputs": [],
   "execution_count": null
  },
  {
   "cell_type": "markdown",
   "metadata": {},
   "source": [
    "Kehren Sie die Reihenfolge des Datasets um(Sortierung Z bis A bei country), indem Sie `loc` mit dem Parameter `::-1` verwenden!"
   ]
  },
  {
   "cell_type": "code",
   "metadata": {},
   "source": [
    "dfDrinks.loc[::-1].head(10)"
   ],
   "outputs": [],
   "execution_count": null
  },
  {
   "cell_type": "markdown",
   "metadata": {},
   "source": [
    "Kehren Sie den Index mit Hilfe der Funktion `reset_index()` method! Beachten Sie den Parameter \"drop\"!"
   ]
  },
  {
   "cell_type": "code",
   "metadata": {
    "scrolled": true
   },
   "source": [
    "dfDrinks.loc[::-1].reset_index(drop=True).head(10)"
   ],
   "outputs": [],
   "execution_count": null
  },
  {
   "cell_type": "markdown",
   "metadata": {},
   "source": [
    "### 4.  Spaltenreihenfolge umkehren"
   ]
  },
  {
   "cell_type": "markdown",
   "metadata": {},
   "source": [
    "Erklären Sie, warum Sie mit [:, ::-1] als Parameter von loc die Spaltenreihenfolge umkehren können und testen Sie dies aus!"
   ]
  },
  {
   "cell_type": "code",
   "metadata": {},
   "source": [
    "# Da die loc-Methode auf Zeilen und Spalten zugreift, können Sie die Reihenfolge der Spalten umkehren, indem Sie die # Spaltenauswahl [:] verwenden und dann die Reihenfolge mit [::-1] umkehren."
   ],
   "outputs": [],
   "execution_count": null
  },
  {
   "cell_type": "markdown",
   "metadata": {},
   "source": [
    "The colon before the comma means \"select all rows\", and the `::-1` after the comma means \"reverse the columns\", which is why \"country\" is now on the right side."
   ]
  },
  {
   "cell_type": "markdown",
   "metadata": {},
   "source": [
    "## 5. Spalten & Datentypen"
   ]
  },
  {
   "cell_type": "markdown",
   "metadata": {},
   "source": [
    "Lassen Sie sich alle Datentypen der Datei drinks.csv anzeigen!"
   ]
  },
  {
   "cell_type": "code",
   "metadata": {},
   "source": [
    "print(dfDrinks.dtypes)"
   ],
   "outputs": [],
   "execution_count": null
  },
  {
   "cell_type": "markdown",
   "metadata": {},
   "source": [
    "Speichern Sie alle numerischen Spalten in dfDrinksNumberCols unterVerwendung von `select_dtypes()` und lassen Sie die ersten 3 Zeilen anzeigen:"
   ]
  },
  {
   "cell_type": "code",
   "metadata": {},
   "source": [
    "dfDrinksNumberCols = dfDrinks.select_dtypes(include=[np.number])\n",
    "print(dfDrinksNumberCols.head(3))"
   ],
   "outputs": [],
   "execution_count": null
  },
  {
   "cell_type": "markdown",
   "metadata": {},
   "source": [
    "Speichern Sie alle Spalten mit Typ 'object' in dfDrinksObjectsCols unterVerwendung von `select_dtypes()` und lassen Sie die ersten 3 Zeilen anzeigen:\n"
   ]
  },
  {
   "cell_type": "code",
   "metadata": {},
   "source": [
    "dfDrinksObjectsCols = dfDrinks.select_dtypes(include=[np.object])"
   ],
   "outputs": [],
   "execution_count": null
  },
  {
   "cell_type": "markdown",
   "metadata": {},
   "source": [
    "Verwenden sie nun als Parameter eine Liste um Datentypspalten vom numerische oder object in dfDrinksNumberOrObjectCols zu kopieren!"
   ]
  },
  {
   "cell_type": "code",
   "metadata": {},
   "source": [
    "dfDrinksNumberOrObjectCols = dfDrinks.select_dtypes(include=[np.number, np.object])"
   ],
   "outputs": [],
   "execution_count": null
  },
  {
   "cell_type": "markdown",
   "metadata": {},
   "source": [
    "Speichern Sie alle numerischen Spalten in dfDrinksNumberExceptCols unter Verwendung von `select_dtypes()` und lassen Sie die ersten 3 Zeilen anzeigen:"
   ]
  },
  {
   "cell_type": "code",
   "metadata": {},
   "source": [
    "dfDrinksNumberExceptCols = dfDrinks.select_dtypes(exclude=[np.number])"
   ],
   "outputs": [],
   "execution_count": null
  },
  {
   "cell_type": "markdown",
   "metadata": {},
   "source": [
    "### 7. Konvertierung von Strings nach Numbers"
   ]
  },
  {
   "cell_type": "markdown",
   "metadata": {},
   "source": [
    "Für die nächsten Teilaufgaben wird folgendes Dataframe verwendet:"
   ]
  },
  {
   "cell_type": "code",
   "metadata": {},
   "source": [
    "# OK"
   ],
   "outputs": [],
   "execution_count": null
  },
  {
   "cell_type": "code",
   "source": [
    "df3 = pd.DataFrame({'col_one':['1.1', '2.2', '3.3'],\n",
    "                   'col_two':['4.4', '5.5', '6.6'],\n",
    "                   'col_three':['7.7', '8.8', '-']})"
   ],
   "metadata": {
    "collapsed": false
   },
   "outputs": [],
   "execution_count": null
  },
  {
   "cell_type": "markdown",
   "metadata": {},
   "source": [
    "Geben Sie die Datentypen der Tabelle aus und lesen Sie ab, dass die Spalten als Datentyp string eingelesen werden!"
   ]
  },
  {
   "cell_type": "code",
   "metadata": {},
   "source": [
    "print(df3.dtypes)"
   ],
   "outputs": [],
   "execution_count": null
  },
  {
   "cell_type": "markdown",
   "metadata": {},
   "source": [
    "Wir möchten damit rechnen und den Datentyp in den ersten beiden Spalten nach df2ColsFloat konverieren. Verwenden Sie `astype()` auf die ersten beiden Spalten! Warum funktioniert dies mit der 3. Spalte nicht?"
   ]
  },
  {
   "cell_type": "code",
   "metadata": {},
   "source": [
    "df3[['col_one', 'col_two']] = df3[['col_one', 'col_two']].astype(float)"
   ],
   "outputs": [],
   "execution_count": null
  },
  {
   "cell_type": "markdown",
   "metadata": {},
   "source": [
    "Ein sicheres Verfahren ist die Pandas funktion `to_numeric()`, die mit dem  Parameter errors='coerce' Fehler unterdrückt:\n",
    "\"df.apply(pd.to_numeric, errors='coerce')\" und ungültige Daten auf NaN setzt!\n",
    "Anschließend kann man mit der fillNa() methode diese NaN Werte z.B. auf 0 setzen!\n",
    "Geben Sie anschliesend die Daten und die Datentypen aus!\n"
   ]
  },
  {
   "cell_type": "code",
   "metadata": {},
   "source": [
    "df3 = df3.apply(pd.to_numeric, errors='coerce')"
   ],
   "outputs": [],
   "execution_count": null
  },
  {
   "cell_type": "markdown",
   "metadata": {},
   "source": [
    "### 7. Reduktion der Größe der DataFrames"
   ]
  },
  {
   "cell_type": "markdown",
   "metadata": {},
   "source": [
    "Erstellen Sie eine Funktion createBigData(noOfRows), welche zufällige Datensätze erstellt!<br>\n",
    "Die Funktion soll einen DataFrame zurückgeben, der folgende Spalten enthält:<br>\n",
    "\n",
    "position: Eine zufällige Auswahl aus den Werten 'left', 'middle' und 'right'.<br>\n",
    "age: Zufällige Ganzzahlen im Bereich von 1 bis 50, die das Alter darstellen.<br>\n",
    "team: Eine zufällige Auswahl aus den Werten 'red', 'blue', 'yellow' und 'green'.<br>\n",
    "win: Eine zufällige Auswahl aus den Werten 'yes' und 'no', um anzuzeigen, ob das Team gewonnen hat.<br>\n",
    "prob: Zufällige Gleitkommazahlen im Bereich von 0 bis 1, die die Wahrscheinlichkeit eines Ereignisses darstellen<br>\n",
    "Testen Sie die Funktion mit 1_000_000!<br>\n",
    "testen Sie das Ergebnis mit df.shape und df.info()!"
   ]
  },
  {
   "cell_type": "code",
   "metadata": {},
   "source": [
    "def createBigData(noOfRows):\n",
    "    position = np.random.choice(['left', 'middle', 'right'], noOfRows)\n",
    "    age = np.random.randint(1, 50, noOfRows)\n",
    "    team = np.random.choice(['red', 'blue', 'yellow', 'green'], noOfRows)\n",
    "    win = np.random.choice(['yes', 'no'], noOfRows)\n",
    "    prob = np.random.rand(noOfRows)\n",
    "    return pd.DataFrame({'position':position, 'age':age, 'team':team, 'win':win, 'prob':prob})\n",
    "\n",
    "df = createBigData(1_000_000)\n",
    "print(df.shape)\n",
    "print(df.info())"
   ],
   "outputs": [],
   "execution_count": null
  },
  {
   "cell_type": "markdown",
   "metadata": {},
   "source": [
    "Optimieren Sie die Spaltenformatierung:<br>\n",
    "- Legen Sie für die position- und team-Spalten den Datentyp 'category' fest.\n",
    "- Reduzieren Sie den Speicherbedarf, indem Sie die age-Spalte auf den Datentyp 'int8' und die prob-Spalte auf den Datentyp 'float32' umwandeln.\n",
    "- Konvertieren Sie die win-Spalte in einen booleschen Datentyp, indem Sie den Wert 'yes' in True und den Wert 'no' in False umwandeln.\n",
    "- Vergleichen Sie das Ergebnis vorher und hinterher mit info()!"
   ]
  },
  {
   "cell_type": "code",
   "metadata": {},
   "source": [
    "def optimizeDf(dfAfter):\n",
    "    dfAfter['position'] = dfAfter['position'].astype('category')\n",
    "    dfAfter['team'] = dfAfter['team'].astype('category')\n",
    "    dfAfter['age'] = dfAfter['age'].astype('int8')\n",
    "    dfAfter['prob'] = dfAfter['prob'].astype('float32')\n",
    "    dfAfter['win'] = dfAfter['win'].map({'yes':True, 'no':False})\n",
    "    return dfAfter\n",
    "\n",
    "dfAfter = optimizeDf(df.copy())\n",
    "print(dfAfter.info())"
   ],
   "outputs": [],
   "execution_count": null
  },
  {
   "cell_type": "markdown",
   "metadata": {},
   "source": [
    "Testen Sie die Abfragegeschwindigkeit vorher und hinterher mit:\n",
    " - %timeit df['age_rank'] = df.groupby(['team', 'position'])['age'].rank()"
   ]
  },
  {
   "cell_type": "code",
   "metadata": {},
   "source": [
    "dfAfter = optimizeDf(df.copy())\n",
    "%timeit df['age_rank'] = df.groupby(['team', 'position'])['age'].rank()\n",
    "%timeit dfAfter['age_rank'] = dfAfter.groupby(['team', 'position'])['age'].rank()"
   ],
   "outputs": [],
   "execution_count": null
  },
  {
   "cell_type": "markdown",
   "metadata": {},
   "source": [
    "### 8. Filtern von DataFrames"
   ]
  },
  {
   "cell_type": "markdown",
   "metadata": {},
   "source": [
    "Lesen Sie die Datei movies.csv in die Variable dfMovies ein und zeigen Sie die ersten 10 Datensätze an!"
   ]
  },
  {
   "cell_type": "code",
   "metadata": {},
   "source": [
    "dfMovies = pd.read_csv('data/movies.csv')"
   ],
   "outputs": [],
   "execution_count": null
  },
  {
   "cell_type": "markdown",
   "metadata": {},
   "source": [
    "Welche Arten von Filmen gibt es in der Tabelle? Zeigen Sie alle an(natürlich ohne Dubletten; Hinweis: 'unique()' auf die Spaltenselektion anwenden!)"
   ]
  },
  {
   "cell_type": "code",
   "metadata": {},
   "source": [
    "print(dfMovies['genre'].unique())"
   ],
   "outputs": [],
   "execution_count": null
  },
  {
   "cell_type": "markdown",
   "metadata": {},
   "source": [
    "Filtern Sie die Datenbank auf die Genres Action oder Drama oder Western!\n",
    "Kodieren Sie die Variante mit dem Union Operator '|'!"
   ]
  },
  {
   "cell_type": "code",
   "metadata": {},
   "source": [
    "print(dfMovies[(dfMovies['genre'] == 'Action') | (dfMovies['genre'] == 'Drama') | (dfMovies['genre'] == 'Western')])"
   ],
   "outputs": [],
   "execution_count": null
  },
  {
   "cell_type": "markdown",
   "metadata": {},
   "source": [
    "Filtern Sie die Datenbank auf die Genres Action oder Drama oder Western!\n",
    "Kodieren Sie die Variante mit der isin Methode!"
   ]
  },
  {
   "cell_type": "code",
   "metadata": {
    "scrolled": true
   },
   "source": [
    "print(dfMovies[dfMovies['genre'].isin(['Action', 'Drama', 'Western'])])"
   ],
   "outputs": [],
   "execution_count": null
  },
  {
   "cell_type": "markdown",
   "metadata": {},
   "source": [
    "Zeigen Sie alle an, die NICHT in diesen drei Genres sind! Um die Negierung der Bedinung zu erreichen, \"excluding\" schreibt man eine Tilde vor die Bedingung!"
   ]
  },
  {
   "cell_type": "code",
   "metadata": {},
   "source": [
    "print(dfMovies[~dfMovies['genre'].isin(['Action', 'Drama', 'Western'])])"
   ],
   "outputs": [],
   "execution_count": null
  },
  {
   "cell_type": "markdown",
   "metadata": {},
   "source": [
    "### 9. Filtern eines DataFrames mit den größten/kleinsten Kategorien"
   ]
  },
  {
   "cell_type": "markdown",
   "metadata": {},
   "source": [
    "Ermitteln Sie die Anzahl der Einträge für jenes Genre!\n",
    "- Wenden Sie die Funktion  `value_counts()` auf genre an!\n",
    "- Geben Sie das Ergebnis aus! \n",
    "- Ermitteln Sie den Typ des Rückgabewertes!"
   ]
  },
  {
   "cell_type": "code",
   "metadata": {},
   "source": [
    "print(dfMovies['genre'].value_counts())"
   ],
   "outputs": [],
   "execution_count": null
  },
  {
   "cell_type": "markdown",
   "metadata": {},
   "source": [
    "Verwenden Sie die Funktion `nlargest()` um die 3 am meisten vorkommenden Genre zu ermitteln und speichern Sie das Ergebnis in countGenreTop3 ab!"
   ]
  },
  {
   "cell_type": "code",
   "metadata": {},
   "source": [
    "countGenreTop3 = dfMovies['genre'].value_counts().nlargest(3)"
   ],
   "outputs": [],
   "execution_count": null
  },
  {
   "cell_type": "markdown",
   "metadata": {},
   "source": [
    "Wie bekommt man von dieser Serie die 1. und 2. Spalte?"
   ]
  },
  {
   "cell_type": "code",
   "metadata": {},
   "source": [
    "countGenreTop3.index[0], countGenreTop3.iloc[0]\n"
   ],
   "outputs": [],
   "execution_count": null
  },
  {
   "cell_type": "markdown",
   "metadata": {},
   "source": [
    "Verwenden Sie die Werte der 2.Spalte in Kombination mit `isin()` um alle Datensätze der ursprünglichen Liste mit diesen 3 Genres zu bekommen und auszugeben! Erstellen Sie ein DataFrame dfTop3GenreAllData!"
   ]
  },
  {
   "cell_type": "code",
   "metadata": {},
   "source": [
    "dfTop3GenreAllData = dfMovies[dfMovies['genre'].isin(countGenreTop3.index)]\n",
    "print(dfTop3GenreAllData)"
   ],
   "outputs": [],
   "execution_count": null
  },
  {
   "cell_type": "markdown",
   "metadata": {},
   "source": [
    "### 10. Behandeln von fehlenden Werten"
   ]
  },
  {
   "cell_type": "markdown",
   "metadata": {},
   "source": [
    "Laden Sie die Datei ufos.csv mit dem Parameter parse_dates=['Time'] in dfUfos! Welche Funktion hat er?\n",
    "Hinweis: Laden Sie die Datei in ein zweites DF und vergleichen Sie die Eigenschaften mit der Methode info()!"
   ]
  },
  {
   "cell_type": "code",
   "metadata": {},
   "source": [
    "dfUfos = pd.read_csv('data/ufos.csv', parse_dates=['Time'])\n",
    "dfUfos2 = pd.read_csv('data/ufos.csv')\n",
    "\n",
    "print(dfUfos.info())\n",
    "print(dfUfos2.info())"
   ],
   "outputs": [],
   "execution_count": null
  },
  {
   "cell_type": "markdown",
   "metadata": {},
   "source": [
    "Wir wollen feststellen, wie viele Werte in jeder Spalte fehlen! Wenden Sie die Funktion `isna()` an und anschließend  `sum()`!\n",
    "`isna()` generiert ein DF von True and Falst und `sum()` convertiert alle True Werte zu 1 und summiert diese auf!"
   ]
  },
  {
   "cell_type": "code",
   "metadata": {},
   "source": [
    "print(dfUfos.isna().sum())"
   ],
   "outputs": [],
   "execution_count": null
  },
  {
   "cell_type": "markdown",
   "metadata": {},
   "source": [
    "Finden Sie analog die Mittelwerte für fehlende Werte in jeder Spalte!"
   ]
  },
  {
   "cell_type": "code",
   "metadata": {},
   "source": [
    "print(dfUfos.isna().mean())"
   ],
   "outputs": [],
   "execution_count": null
  },
  {
   "cell_type": "markdown",
   "metadata": {},
   "source": [
    "Wir wollen vollständige Datensätze! Verwenden Sie die Funktion drophna(), um alle unvollständigen Datensätze zu löschen, wo eine Spalte einen \"na\"-Eintrag hat und in dfUfosComplete zu speichern! \n"
   ]
  },
  {
   "cell_type": "code",
   "metadata": {},
   "source": [
    "dfUfosComplete = dfUfos.dropna()"
   ],
   "outputs": [],
   "execution_count": null
  },
  {
   "cell_type": "markdown",
   "metadata": {},
   "source": [
    "Wenn Sie Spalten löschen möchten, in denen mehr als 10% der Werte fehlen, können Sie einen Schwellenwert für dropna() festlegen, verwenden Sie den Parameter thresh!\n",
    "\n",
    "'len(ufo)' gibt die Gesamtzahl der Zeilen zurück, und dann multiplizieren wir das mit 0,9, um pandas mitzuteilen, nur Spalten beizubehalten, in denen mindestens 90% der Werte nicht fehlen."
   ]
  },
  {
   "cell_type": "code",
   "metadata": {},
   "source": [
    "print(dfUfos.dropna(thresh=len(dfUfos)*0.9, axis=1).info())"
   ],
   "outputs": [],
   "execution_count": null
  },
  {
   "cell_type": "markdown",
   "metadata": {},
   "source": [
    "## 11. Aggregation"
   ]
  },
  {
   "cell_type": "markdown",
   "metadata": {},
   "source": [
    "Lesen Sie die Tabulator separierte Datei \"orders.txt\" ein!"
   ]
  },
  {
   "cell_type": "code",
   "metadata": {},
   "source": [
    "dfOrders = pd.read_csv('data/orders.txt', sep='\\t')"
   ],
   "outputs": [],
   "execution_count": null
  },
  {
   "cell_type": "markdown",
   "metadata": {},
   "source": [
    "Jede Bestellung hat eine Bestellnummer (order_id) und besteht aus einer oder mehreren Zeilen. Um den Gesamtpreis einer Bestellung zu ermitteln, addieren Sie die Artikelkosten für diese Bestellnummer. Zum Beispiel berechnen Sie hier der Gesamtpreis der Bestellung Nummer 1!\n",
    "Hinweis: Filter auf order_id=1 setzen und mit der Methode sum() summieren!"
   ]
  },
  {
   "cell_type": "code",
   "metadata": {},
   "source": [
    "gesamtpreis = dfOrders[dfOrders['order_id'] == 1]['item_price'].sum()\n",
    "print(gesamtpreis)"
   ],
   "outputs": [],
   "execution_count": null
  },
  {
   "cell_type": "markdown",
   "metadata": {},
   "source": [
    "Wenn Sie den Gesamtpreis jeder Bestellung berechnen möchten, würden Sie groupby() nach order_id durchführen und dann die Summe von item_price für jede Gruppe nehmen:"
   ]
  },
  {
   "cell_type": "code",
   "metadata": {},
   "source": [
    "print(dfOrders.groupby('order_id')['item_price'].sum())"
   ],
   "outputs": [],
   "execution_count": null
  },
  {
   "cell_type": "markdown",
   "metadata": {},
   "source": [
    "\"Sie sind jedoch nicht darauf beschränkt, nur eine Funktion wie sum() zu aggregieren. Um nach mehreren Funktionen zu aggregieren, verwenden Sie die Methode agg() und übergeben ihr eine Liste von Funktionen wie sum() und count():\""
   ]
  },
  {
   "cell_type": "code",
   "metadata": {},
   "source": [
    "print(dfOrders.groupby('order_id')['item_price'].agg(['sum', 'count']))"
   ],
   "outputs": [],
   "execution_count": null
  },
  {
   "cell_type": "markdown",
   "metadata": {},
   "source": [
    "### 12. Wählen Sie einen Ausschnitt von Zeilen und Spalten aus"
   ]
  },
  {
   "cell_type": "markdown",
   "metadata": {},
   "source": [
    "Laden Sie die Datei Titanic.csv!"
   ]
  },
  {
   "cell_type": "code",
   "metadata": {},
   "source": [
    "dfTitanic = pd.read_csv('data/titanic.csv')"
   ],
   "outputs": [],
   "execution_count": null
  },
  {
   "cell_type": "markdown",
   "metadata": {},
   "source": [
    "Dies ist der berühmte Titanic-Datensatz, der Informationen über Passagiere auf der Titanic und darüber, ob sie überlebt haben oder nicht, zeigt.\n",
    "Wenn Sie eine numerische Zusammenfassung des Datensatzes möchten, würden Sie die describe()-Methode verwenden!"
   ]
  },
  {
   "cell_type": "code",
   "metadata": {},
   "source": [
    "print(dfTitanic.describe())"
   ],
   "outputs": [],
   "execution_count": null
  },
  {
   "cell_type": "markdown",
   "metadata": {},
   "source": [
    "Allerdings zeigt das resultierende DataFrame möglicherweise mehr Informationen, als Sie benötigen.\n",
    "\n",
    "Wenn Sie es filtern möchten, um nur die \"Fünf-Nummern-Zusammenfassung\" anzuzeigen, können Sie den loc-Zugriffsoperator verwenden und ihm einen Ausschnitt der Zeilenbezeichnungen von \"min\" bis \"max\" übergeben: loc['min':'max']"
   ]
  },
  {
   "cell_type": "code",
   "metadata": {
    "scrolled": true
   },
   "source": [
    "print(dfTitanic.describe().loc['min':'max'])"
   ],
   "outputs": [],
   "execution_count": null
  },
  {
   "cell_type": "markdown",
   "metadata": {},
   "source": [
    "Wenn Sie jedoch nicht an allen Spalten interessiert sind, können Sie ihm auch einen Ausschnitt von Spaltenbezeichnungen übergeben! Zeigen Sie nur die Spalten Pclass bis Parch an!"
   ]
  },
  {
   "cell_type": "code",
   "metadata": {},
   "source": [
    "print(dfTitanic.describe().loc['min':'max', 'Pclass':'Parch'])"
   ],
   "outputs": [],
   "execution_count": null
  },
  {
   "cell_type": "markdown",
   "metadata": {},
   "source": [
    "### 13. Kontinuierliche Daten(Zahlen) in kategoriale Daten(Kategorien) umwandeln"
   ]
  },
  {
   "cell_type": "markdown",
   "metadata": {},
   "source": [
    "Geben Sie die ersten 10 Datensätze der Spalte age aus!"
   ]
  },
  {
   "cell_type": "code",
   "metadata": {},
   "source": [
    "print(dfTitanic['age'].head(10))"
   ],
   "outputs": [],
   "execution_count": null
  },
  {
   "cell_type": "markdown",
   "metadata": {},
   "source": [
    "Mit der cut() Funktion von Pandas machen Sie folgendes: Die Funktion teilt die Altersdaten in verschiedene Altersgruppen ein, die durch die Grenzen definiert sind, die als bins-Parameter angegeben werden. Diese Grenzen sollten so gewählt werden, dass sie verschiedene Altersgruppen repräsentieren, wie z.B. \"Kind\", \"junge Erwachsene\" und \"Erwachsene\". Die entsprechenden Beschriftungen für diese Gruppen werden als labels-Parameter übergeben.\n",
    "\n",
    "Wandeln Sie die Altersdaten aus dem Titanic-Datensatz in kategoriale Daten umwandelt, wobei die Grenzen für \"Kind\" (0-17 Jahre), \"junge Erwachsene\" (18-24 Jahre) und \"Erwachsene\" (25-99 Jahre) definiert sind!"
   ]
  },
  {
   "cell_type": "code",
   "metadata": {},
   "source": [
    "dfTitanic = dfTitanic.dropna(subset=['age'])\n",
    "bins = [0, 17, 24, 99]\n",
    "labels = ['Kind', 'junge Erwachsene', 'Erwachsene']\n",
    "dfTitanic['age_group'] = pd.cut(dfTitanic['age'], bins=bins, labels=labels)\n",
    "print(dfTitanic['age_group'].head(10))"
   ],
   "outputs": [],
   "execution_count": null
  },
  {
   "cell_type": "markdown",
   "metadata": {},
   "source": [
    "### 14. DataFrame formatieren - Dezimalstellen"
   ]
  },
  {
   "cell_type": "markdown",
   "metadata": {},
   "source": [
    "Geben Sie die Daten nach Verwendung der `set_option()` function\n",
    "\n",
    "pd.set_option('display.float_format', '{:.2f}'.format)\n",
    "\n",
    "an und beschreiben Sie die Wirkung!"
   ]
  },
  {
   "cell_type": "code",
   "metadata": {},
   "source": [
    "print(pd.set_option('display.float_format', '{:.2f}'.format))"
   ],
   "outputs": [],
   "execution_count": null
  },
  {
   "cell_type": "markdown",
   "metadata": {},
   "source": [
    "Setzen Sie die Einstellung wieder zurück und zeigen Sie die ersten 10 Datensätze an!"
   ]
  },
  {
   "cell_type": "code",
   "metadata": {},
   "source": [
    "pd.reset_option('display.float_format')\n",
    "print(dfTitanic['age'].head(10))"
   ],
   "outputs": [],
   "execution_count": null
  },
  {
   "cell_type": "markdown",
   "metadata": {},
   "source": [
    "Experimentieren Sie mit den Einstellungen und finden Sie eine bessere Darstellung als das Alter z.B. mit 2 Dezimalstellen darzustellen!\n",
    "Der Trick ist nützlich, wenn Sie die Darstellung Ihres gesamten Notebooks ändern möchten. Allerdings ist ein flexiblerer und leistungsstärkerer Ansatz, den Stil eines bestimmten DataFrames zu definieren wie im nächsten Teil!"
   ]
  },
  {
   "cell_type": "markdown",
   "metadata": {},
   "source": [
    "## 15. DataFrame formatieren - Farben"
   ]
  },
  {
   "cell_type": "markdown",
   "metadata": {},
   "source": [
    "Laden Sie die Datendatei stock.csv mit dem Parameter parse_dates=['Date'] und beschreiben Sie den Unterschied ohne Parameter!\n",
    "\n",
    "Hinweis: In zwei Code-Bereichen in verschiede DataFrames laden und mit info() vergleichen!"
   ]
  },
  {
   "cell_type": "code",
   "metadata": {},
   "source": [
    "dfStocks = pd.read_csv('data/stock.csv')"
   ],
   "outputs": [],
   "execution_count": null
  },
  {
   "cell_type": "code",
   "metadata": {},
   "source": [
    "dfStocks2 = pd.read_csv('data/stock.csv', parse_dates=['Date'])"
   ],
   "outputs": [],
   "execution_count": null
  },
  {
   "cell_type": "markdown",
   "metadata": {},
   "source": [
    "Erstellen Sie ein Dictionary, mit dem Sie die Ausgabe dieses DataFrames(nicht aller, Unterschied zu eben!) formatieren!<br>\n",
    "Füllen Sie dazu die Strings '' in nachfolgendem Befehl aus, und ersetzen Sie ??? mit einer Formatierung!<br>\n",
    "formatDfStocks = {'Date':'???', 'Close':'???', 'Volume':'???'}<br>\n",
    "Date: Darstellung als Monat, Tag, Jahr<br>\n",
    "Close: Zwei Dezimalstellen und das Währungssymbol $ vor der Zahl!<br>\n",
    "Volume: keine Formatierung der Dezimalstellen, aber Komma(,) als 1000-er Zeichen:<br>\n",
    "Verwenden Sie die DataFrame `style.format()` Methode zur Ausgabe!<br>\n",
    "Anschließend geben Sie nur die ersten 3 Zeilen aus!\n"
   ]
  },
  {
   "cell_type": "code",
   "metadata": {},
   "source": [
    "print(dfStocks2.head(3).style.format())"
   ],
   "outputs": [],
   "execution_count": null
  },
  {
   "cell_type": "markdown",
   "metadata": {},
   "source": [
    "Fügen Sie noch weitere Formatierungen hinzu:<br>\n",
    "- Minimaler Close-Wert Hintergrund lightgreen\n",
    "- Maximaler Close-Wert Hintergrund red\n",
    "\n"
   ]
  },
  {
   "cell_type": "code",
   "source": [
    "print(dfStocks2.head(3).style.format(dfStocks).highlight_min('Close', color='lightgreen').highlight_max('Close', color='red'))"
   ],
   "metadata": {
    "collapsed": false
   },
   "outputs": [],
   "execution_count": null
  },
  {
   "cell_type": "markdown",
   "metadata": {},
   "source": [
    "Verwenden Sie die formatierte Darstellung der ersten Teilaufgabe und fügen Sie für die Spaltee Volume mit der Methode background_gradient und Farbe Blues eine Farbdarstellung hinzu!<br>\n",
    "Beschreiben Sie die Bedeutung der Farben!\n"
   ]
  },
  {
   "cell_type": "code",
   "metadata": {},
   "source": [
    "# Die Methode background_gradient() wendet eine Farbverlaufsfüllung auf die Zellen eines DataFrame an. Der \n",
    "# Farbverlauf basiert auf den Werten in den Zellen. In diesem Fall wird die Farbe lightblue verwendet, um die Zellen\n",
    "# mit den niedrigsten Werten zu füllen, und die Farbe darkblue wird verwendet, um die Zellen mit den höchsten \n",
    "# Werten zu füllen."
   ],
   "outputs": [],
   "execution_count": null
  },
  {
   "cell_type": "markdown",
   "metadata": {},
   "source": [
    "Nehmen Sie das Ergebnis der ersten Teilaufgabe!<br>\n",
    "- Fügen Sie die Überschrift \"Stock Prices beginnend Oktober 2016\" hinzu!\n",
    "- Stellen Sie die Größe der Werte der Spalte Volume im Hintergrund der Zellen dieser Spalte lightblue dar!"
   ]
  },
  {
   "cell_type": "code",
   "metadata": {},
   "source": [
    "dfStocks2.head(3).style.format(dfStocks).set_caption('Stock Prices beginnend Oktober 2016').background_gradient(subset='Volume', cmap='Blues')"
   ],
   "outputs": [],
   "execution_count": null
  }
 ],
 "metadata": {
  "kernelspec": {
   "display_name": "Python 3 (ipykernel)",
   "language": "python",
   "name": "python3"
  },
  "language_info": {
   "codemirror_mode": {
    "name": "ipython",
    "version": 3
   },
   "file_extension": ".py",
   "mimetype": "text/x-python",
   "name": "python",
   "nbconvert_exporter": "python",
   "pygments_lexer": "ipython3",
   "version": "3.12.0"
  }
 },
 "nbformat": 4,
 "nbformat_minor": 2
}

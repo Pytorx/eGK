{
 "cells": [
  {
   "metadata": {},
   "cell_type": "code",
   "source": [
    "import yfinance as yf\n",
    "import pandas as pd"
   ],
   "id": "initial_id",
   "outputs": [],
   "execution_count": null
  },
  {
   "metadata": {},
   "cell_type": "markdown",
   "source": "Aufgabe 3",
   "id": "640055aca1e23185"
  },
  {
   "metadata": {},
   "cell_type": "code",
   "source": [
    "start_date = '2024-05-01'\n",
    "end_date = pd.Timestamp.today().strftime('%Y-%m-%d')\n",
    "msftData = yf.download('MSFT', start=start_date, end=end_date)\n",
    "print(msftData)"
   ],
   "id": "5d9ad3dcaec3e5ba",
   "outputs": [],
   "execution_count": null
  },
  {
   "metadata": {},
   "cell_type": "markdown",
   "source": "Aufgabe 4",
   "id": "f8025e88ff51291e"
  },
  {
   "metadata": {},
   "cell_type": "code",
   "source": [
    "symbols = ['GOOGL', 'MSFT', 'TSLA']\n",
    "all_data = yf.download(symbols, start='2024-01-01', end=pd.Timestamp.today().strftime('%Y-%m-%d'))\n",
    "print(all_data)"
   ],
   "id": "7885531a42599056",
   "outputs": [],
   "execution_count": null
  },
  {
   "metadata": {},
   "cell_type": "markdown",
   "source": "Aufgabe 5",
   "id": "2cdac5172bd74f8b"
  },
  {
   "metadata": {},
   "cell_type": "code",
   "outputs": [],
   "execution_count": null,
   "source": [
    "symbols = ['GOOGL', 'MSFT', 'TSLA']\n",
    "all_data_grouped = yf.download(symbols, start='2024-01-01', end=pd.Timestamp.today().strftime('%Y-%m-%d'), group_by='ticker')\n",
    "print(all_data_grouped)"
   ],
   "id": "5155cdd9823b7699"
  },
  {
   "metadata": {},
   "cell_type": "markdown",
   "source": "Aufgabe 6",
   "id": "59c7eb7f7596e221"
  },
  {
   "metadata": {},
   "cell_type": "code",
   "outputs": [],
   "execution_count": null,
   "source": "",
   "id": "f284f9636e56e8c"
  },
  {
   "metadata": {},
   "cell_type": "markdown",
   "source": "Aufgabe 7",
   "id": "4befe051623ad52f"
  },
  {
   "metadata": {},
   "cell_type": "code",
   "outputs": [],
   "execution_count": null,
   "source": [
    "symbols = ['GOOGL', 'MSFT', 'TSLA']\n",
    "all_data = yf.download(symbols, start='2024-01-01', end=pd.Timestamp.today().strftime('%Y-%m-%d'))\n",
    "closing_prices = all_data['Adj Close']\n",
    "print(closing_prices)"
   ],
   "id": "87b10b2ec71a03ef"
  },
  {
   "metadata": {},
   "cell_type": "markdown",
   "source": "Aufgabe 8",
   "id": "9a15b89382b239cb"
  },
  {
   "metadata": {},
   "cell_type": "code",
   "outputs": [],
   "execution_count": null,
   "source": [
    "msftInfo = yf.Ticker(\"MSFT\").info\n",
    "\n",
    "def topThreeInfos(company_info):\n",
    "    # Die wichtigsten drei Daten ermitteln\n",
    "    keys = ['sector', 'country', 'marketCap']\n",
    "    top_infos = {key: company_info[key] for key in keys if key in company_info}\n",
    "    return top_infos\n",
    "\n",
    "# Die wichtigsten drei Daten für Microsoft ermitteln\n",
    "top_infos_msft = topThreeInfos(msftInfo)\n",
    "print(top_infos_msft)"
   ],
   "id": "5f5c9755b1b3c8ec"
  },
  {
   "metadata": {},
   "cell_type": "markdown",
   "source": "Aufgabe 9",
   "id": "6126be93ab96524"
  },
  {
   "metadata": {},
   "cell_type": "code",
   "outputs": [],
   "execution_count": null,
   "source": "",
   "id": "a326fbe71156231c"
  }
 ],
 "metadata": {
  "kernelspec": {
   "display_name": "Python 3",
   "language": "python",
   "name": "python3"
  },
  "language_info": {
   "codemirror_mode": {
    "name": "ipython",
    "version": 2
   },
   "file_extension": ".py",
   "mimetype": "text/x-python",
   "name": "python",
   "nbconvert_exporter": "python",
   "pygments_lexer": "ipython2",
   "version": "2.7.6"
  }
 },
 "nbformat": 4,
 "nbformat_minor": 5
}

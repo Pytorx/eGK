{
 "cells": [
  {
   "cell_type": "markdown",
   "source": [
    "<h1>Erstes Beispiel</h1>"
   ],
   "metadata": {
    "collapsed": false
   },
   "id": "9aad24a19a955d20"
  },
  {
   "cell_type": "code",
   "outputs": [],
   "source": [
    "y = 1"
   ],
   "metadata": {
    "collapsed": false,
    "ExecuteTime": {
     "end_time": "2024-02-05T10:54:10.444132Z",
     "start_time": "2024-02-05T10:54:10.441131Z"
    }
   },
   "id": "edbe4232d4d8566c",
   "execution_count": 4
  },
  {
   "cell_type": "code",
   "outputs": [],
   "source": [
    "y = 2"
   ],
   "metadata": {
    "collapsed": false
   },
   "id": "e47c864730f6f816"
  },
  {
   "cell_type": "code",
   "outputs": [
    {
     "name": "stdout",
     "output_type": "stream",
     "text": [
      "1\n"
     ]
    }
   ],
   "source": [
    "print(y)"
   ],
   "metadata": {
    "collapsed": false,
    "ExecuteTime": {
     "end_time": "2024-02-05T11:04:31.811507Z",
     "start_time": "2024-02-05T11:04:31.806599Z"
    }
   },
   "id": "6b5d444642b53ae8",
   "execution_count": 6
  },
  {
   "cell_type": "code",
   "outputs": [],
   "source": [
    "y = 3"
   ],
   "metadata": {
    "collapsed": false,
    "ExecuteTime": {
     "end_time": "2024-02-12T10:28:34.903514Z",
     "start_time": "2024-02-12T10:28:34.891918Z"
    }
   },
   "id": "98ff98669fb6ce57",
   "execution_count": 1
  },
  {
   "cell_type": "code",
   "outputs": [
    {
     "name": "stdout",
     "output_type": "stream",
     "text": [
      "3\n"
     ]
    }
   ],
   "source": [
    "print(str(y))"
   ],
   "metadata": {
    "collapsed": false,
    "ExecuteTime": {
     "end_time": "2024-02-12T10:29:13.269445Z",
     "start_time": "2024-02-12T10:29:13.262476Z"
    }
   },
   "id": "35043246a3262f22",
   "execution_count": 5
  },
  {
   "cell_type": "code",
   "outputs": [
    {
     "name": "stdout",
     "output_type": "stream",
     "text": [
      "<class 'int'>\n"
     ]
    }
   ],
   "source": [
    "print(type(y))"
   ],
   "metadata": {
    "collapsed": false,
    "ExecuteTime": {
     "end_time": "2024-02-12T10:29:48.936984Z",
     "start_time": "2024-02-12T10:29:48.932245Z"
    }
   },
   "id": "f01890697bdd20a8",
   "execution_count": 7
  }
 ],
 "metadata": {
  "kernelspec": {
   "display_name": "Python 3",
   "language": "python",
   "name": "python3"
  },
  "language_info": {
   "codemirror_mode": {
    "name": "ipython",
    "version": 2
   },
   "file_extension": ".py",
   "mimetype": "text/x-python",
   "name": "python",
   "nbconvert_exporter": "python",
   "pygments_lexer": "ipython2",
   "version": "2.7.6"
  }
 },
 "nbformat": 4,
 "nbformat_minor": 5
}
